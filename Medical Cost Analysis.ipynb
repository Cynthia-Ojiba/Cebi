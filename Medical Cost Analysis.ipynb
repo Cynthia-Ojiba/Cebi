{
 "cells": [
  {
   "cell_type": "markdown",
   "id": "29a5aa70",
   "metadata": {},
   "source": [
    "# MEDICAL COST ANALYSIS\n",
    "The aim of the project is to estimate the approximate cost of a person's\n",
    "health insurance based on the given variables."
   ]
  },
  {
   "cell_type": "markdown",
   "id": "54121f12",
   "metadata": {
    "id": "54121f12"
   },
   "source": [
    "# IMPORTING THE LIBRARIES"
   ]
  },
  {
   "cell_type": "code",
   "execution_count": 3,
   "id": "13039247",
   "metadata": {
    "executionInfo": {
     "elapsed": 1542,
     "status": "ok",
     "timestamp": 1665337042800,
     "user": {
      "displayName": "Ebi Tunyan",
      "userId": "02090140657846476290"
     },
     "user_tz": -540
    },
    "id": "13039247"
   },
   "outputs": [],
   "source": [
    "#Import required libraries\n",
    "import pandas as pd \n",
    "import numpy as np\n",
    "import seaborn as sns\n",
    "import matplotlib.pyplot as plt\n",
    "from sklearn.preprocessing import LabelEncoder\n",
    "from sklearn.model_selection import train_test_split\n",
    "from sklearn.preprocessing import StandardScaler\n",
    "from sklearn.linear_model import LinearRegression, Ridge, Lasso, ElasticNet\n",
    "from sklearn.tree import DecisionTreeRegressor\n",
    "from sklearn.ensemble import RandomForestRegressor\n",
    "from sklearn.model_selection import cross_val_score\n",
    "from sklearn.model_selection import RandomizedSearchCV\n",
    "from sklearn import metrics"
   ]
  },
  {
   "cell_type": "code",
   "execution_count": 5,
   "id": "093d326f",
   "metadata": {
    "colab": {
     "base_uri": "https://localhost:8080/",
     "height": 424
    },
    "executionInfo": {
     "elapsed": 289,
     "status": "ok",
     "timestamp": 1665337044561,
     "user": {
      "displayName": "Ebi Tunyan",
      "userId": "02090140657846476290"
     },
     "user_tz": -540
    },
    "id": "093d326f",
    "outputId": "317d82d8-6f80-4102-f5ba-c83dfa608641",
    "scrolled": true
   },
   "outputs": [
    {
     "data": {
      "text/html": [
       "<div>\n",
       "<style scoped>\n",
       "    .dataframe tbody tr th:only-of-type {\n",
       "        vertical-align: middle;\n",
       "    }\n",
       "\n",
       "    .dataframe tbody tr th {\n",
       "        vertical-align: top;\n",
       "    }\n",
       "\n",
       "    .dataframe thead th {\n",
       "        text-align: right;\n",
       "    }\n",
       "</style>\n",
       "<table border=\"1\" class=\"dataframe\">\n",
       "  <thead>\n",
       "    <tr style=\"text-align: right;\">\n",
       "      <th></th>\n",
       "      <th>age</th>\n",
       "      <th>sex</th>\n",
       "      <th>bmi</th>\n",
       "      <th>children</th>\n",
       "      <th>smoker</th>\n",
       "      <th>region</th>\n",
       "      <th>charges</th>\n",
       "    </tr>\n",
       "  </thead>\n",
       "  <tbody>\n",
       "    <tr>\n",
       "      <th>0</th>\n",
       "      <td>19</td>\n",
       "      <td>female</td>\n",
       "      <td>27.900</td>\n",
       "      <td>0</td>\n",
       "      <td>yes</td>\n",
       "      <td>southwest</td>\n",
       "      <td>16884.92400</td>\n",
       "    </tr>\n",
       "    <tr>\n",
       "      <th>1</th>\n",
       "      <td>18</td>\n",
       "      <td>male</td>\n",
       "      <td>33.770</td>\n",
       "      <td>1</td>\n",
       "      <td>no</td>\n",
       "      <td>southeast</td>\n",
       "      <td>1725.55230</td>\n",
       "    </tr>\n",
       "    <tr>\n",
       "      <th>2</th>\n",
       "      <td>28</td>\n",
       "      <td>male</td>\n",
       "      <td>33.000</td>\n",
       "      <td>3</td>\n",
       "      <td>no</td>\n",
       "      <td>southeast</td>\n",
       "      <td>4449.46200</td>\n",
       "    </tr>\n",
       "    <tr>\n",
       "      <th>3</th>\n",
       "      <td>33</td>\n",
       "      <td>male</td>\n",
       "      <td>22.705</td>\n",
       "      <td>0</td>\n",
       "      <td>no</td>\n",
       "      <td>northwest</td>\n",
       "      <td>21984.47061</td>\n",
       "    </tr>\n",
       "    <tr>\n",
       "      <th>4</th>\n",
       "      <td>32</td>\n",
       "      <td>male</td>\n",
       "      <td>28.880</td>\n",
       "      <td>0</td>\n",
       "      <td>no</td>\n",
       "      <td>northwest</td>\n",
       "      <td>3866.85520</td>\n",
       "    </tr>\n",
       "    <tr>\n",
       "      <th>...</th>\n",
       "      <td>...</td>\n",
       "      <td>...</td>\n",
       "      <td>...</td>\n",
       "      <td>...</td>\n",
       "      <td>...</td>\n",
       "      <td>...</td>\n",
       "      <td>...</td>\n",
       "    </tr>\n",
       "    <tr>\n",
       "      <th>1333</th>\n",
       "      <td>50</td>\n",
       "      <td>male</td>\n",
       "      <td>30.970</td>\n",
       "      <td>3</td>\n",
       "      <td>no</td>\n",
       "      <td>northwest</td>\n",
       "      <td>10600.54830</td>\n",
       "    </tr>\n",
       "    <tr>\n",
       "      <th>1334</th>\n",
       "      <td>18</td>\n",
       "      <td>female</td>\n",
       "      <td>31.920</td>\n",
       "      <td>0</td>\n",
       "      <td>no</td>\n",
       "      <td>northeast</td>\n",
       "      <td>2205.98080</td>\n",
       "    </tr>\n",
       "    <tr>\n",
       "      <th>1335</th>\n",
       "      <td>18</td>\n",
       "      <td>female</td>\n",
       "      <td>36.850</td>\n",
       "      <td>0</td>\n",
       "      <td>no</td>\n",
       "      <td>southeast</td>\n",
       "      <td>1629.83350</td>\n",
       "    </tr>\n",
       "    <tr>\n",
       "      <th>1336</th>\n",
       "      <td>21</td>\n",
       "      <td>female</td>\n",
       "      <td>25.800</td>\n",
       "      <td>0</td>\n",
       "      <td>no</td>\n",
       "      <td>southwest</td>\n",
       "      <td>2007.94500</td>\n",
       "    </tr>\n",
       "    <tr>\n",
       "      <th>1337</th>\n",
       "      <td>61</td>\n",
       "      <td>female</td>\n",
       "      <td>29.070</td>\n",
       "      <td>0</td>\n",
       "      <td>yes</td>\n",
       "      <td>northwest</td>\n",
       "      <td>29141.36030</td>\n",
       "    </tr>\n",
       "  </tbody>\n",
       "</table>\n",
       "<p>1338 rows × 7 columns</p>\n",
       "</div>"
      ],
      "text/plain": [
       "      age     sex     bmi  children smoker     region      charges\n",
       "0      19  female  27.900         0    yes  southwest  16884.92400\n",
       "1      18    male  33.770         1     no  southeast   1725.55230\n",
       "2      28    male  33.000         3     no  southeast   4449.46200\n",
       "3      33    male  22.705         0     no  northwest  21984.47061\n",
       "4      32    male  28.880         0     no  northwest   3866.85520\n",
       "...   ...     ...     ...       ...    ...        ...          ...\n",
       "1333   50    male  30.970         3     no  northwest  10600.54830\n",
       "1334   18  female  31.920         0     no  northeast   2205.98080\n",
       "1335   18  female  36.850         0     no  southeast   1629.83350\n",
       "1336   21  female  25.800         0     no  southwest   2007.94500\n",
       "1337   61  female  29.070         0    yes  northwest  29141.36030\n",
       "\n",
       "[1338 rows x 7 columns]"
      ]
     },
     "execution_count": 5,
     "metadata": {},
     "output_type": "execute_result"
    }
   ],
   "source": [
    "#read the data and assign to a variable\n",
    "data= pd.read_csv('insurance.csv')\n",
    "data"
   ]
  },
  {
   "cell_type": "markdown",
   "id": "053682ea",
   "metadata": {
    "id": "053682ea"
   },
   "source": [
    "Dataset has 7 columns(variables) and 1338 rows(observations)"
   ]
  },
  {
   "cell_type": "code",
   "execution_count": 6,
   "id": "61a0c76b",
   "metadata": {
    "colab": {
     "base_uri": "https://localhost:8080/"
    },
    "executionInfo": {
     "elapsed": 277,
     "status": "ok",
     "timestamp": 1665337051531,
     "user": {
      "displayName": "Ebi Tunyan",
      "userId": "02090140657846476290"
     },
     "user_tz": -540
    },
    "id": "61a0c76b",
    "outputId": "304245cf-2b54-4cbf-f8b8-84f14d267321"
   },
   "outputs": [
    {
     "name": "stdout",
     "output_type": "stream",
     "text": [
      "<class 'pandas.core.frame.DataFrame'>\n",
      "RangeIndex: 1338 entries, 0 to 1337\n",
      "Data columns (total 7 columns):\n",
      " #   Column    Non-Null Count  Dtype  \n",
      "---  ------    --------------  -----  \n",
      " 0   age       1338 non-null   int64  \n",
      " 1   sex       1338 non-null   object \n",
      " 2   bmi       1338 non-null   float64\n",
      " 3   children  1338 non-null   int64  \n",
      " 4   smoker    1338 non-null   object \n",
      " 5   region    1338 non-null   object \n",
      " 6   charges   1338 non-null   float64\n",
      "dtypes: float64(2), int64(2), object(3)\n",
      "memory usage: 73.3+ KB\n"
     ]
    }
   ],
   "source": [
    "#checking the information on the dataset\n",
    "data.info()"
   ]
  },
  {
   "cell_type": "markdown",
   "id": "e8bdfaef",
   "metadata": {
    "id": "e8bdfaef"
   },
   "source": [
    "There are 2 integer type, 2 float type, and 3 object type. There is no null element in the data set "
   ]
  },
  {
   "cell_type": "code",
   "execution_count": 7,
   "id": "a3006f5a",
   "metadata": {
    "colab": {
     "base_uri": "https://localhost:8080/"
    },
    "executionInfo": {
     "elapsed": 277,
     "status": "ok",
     "timestamp": 1665337053285,
     "user": {
      "displayName": "Ebi Tunyan",
      "userId": "02090140657846476290"
     },
     "user_tz": -540
    },
    "id": "a3006f5a",
    "outputId": "791153e4-fbc6-4656-dac4-2fb8a5f4c73e"
   },
   "outputs": [
    {
     "data": {
      "text/plain": [
       "age         0\n",
       "sex         0\n",
       "bmi         0\n",
       "children    0\n",
       "smoker      0\n",
       "region      0\n",
       "charges     0\n",
       "dtype: int64"
      ]
     },
     "execution_count": 7,
     "metadata": {},
     "output_type": "execute_result"
    }
   ],
   "source": [
    "#Checking for empty values in the dataset\n",
    "data.isna().sum()"
   ]
  },
  {
   "cell_type": "code",
   "execution_count": 8,
   "id": "41556fa4",
   "metadata": {
    "colab": {
     "base_uri": "https://localhost:8080/"
    },
    "executionInfo": {
     "elapsed": 3,
     "status": "ok",
     "timestamp": 1665337055186,
     "user": {
      "displayName": "Ebi Tunyan",
      "userId": "02090140657846476290"
     },
     "user_tz": -540
    },
    "id": "41556fa4",
    "outputId": "fc134710-f15e-43ec-f5c5-a3abfd5d7478"
   },
   "outputs": [
    {
     "name": "stdout",
     "output_type": "stream",
     "text": [
      "Dataset has  1 duplicate(s)\n"
     ]
    }
   ],
   "source": [
    "#checking for duplicate elements in the dataset\n",
    "print('Dataset has ', data.duplicated().sum(), 'duplicate(s)')"
   ]
  },
  {
   "cell_type": "code",
   "execution_count": 9,
   "id": "570c12f7",
   "metadata": {
    "colab": {
     "base_uri": "https://localhost:8080/",
     "height": 81
    },
    "executionInfo": {
     "elapsed": 7,
     "status": "ok",
     "timestamp": 1665337056982,
     "user": {
      "displayName": "Ebi Tunyan",
      "userId": "02090140657846476290"
     },
     "user_tz": -540
    },
    "id": "570c12f7",
    "outputId": "f2b3628c-f3e3-4221-82bd-1c496e2b3257"
   },
   "outputs": [
    {
     "data": {
      "text/html": [
       "<div>\n",
       "<style scoped>\n",
       "    .dataframe tbody tr th:only-of-type {\n",
       "        vertical-align: middle;\n",
       "    }\n",
       "\n",
       "    .dataframe tbody tr th {\n",
       "        vertical-align: top;\n",
       "    }\n",
       "\n",
       "    .dataframe thead th {\n",
       "        text-align: right;\n",
       "    }\n",
       "</style>\n",
       "<table border=\"1\" class=\"dataframe\">\n",
       "  <thead>\n",
       "    <tr style=\"text-align: right;\">\n",
       "      <th></th>\n",
       "      <th>age</th>\n",
       "      <th>sex</th>\n",
       "      <th>bmi</th>\n",
       "      <th>children</th>\n",
       "      <th>smoker</th>\n",
       "      <th>region</th>\n",
       "      <th>charges</th>\n",
       "    </tr>\n",
       "  </thead>\n",
       "  <tbody>\n",
       "    <tr>\n",
       "      <th>581</th>\n",
       "      <td>19</td>\n",
       "      <td>male</td>\n",
       "      <td>30.59</td>\n",
       "      <td>0</td>\n",
       "      <td>no</td>\n",
       "      <td>northwest</td>\n",
       "      <td>1639.5631</td>\n",
       "    </tr>\n",
       "  </tbody>\n",
       "</table>\n",
       "</div>"
      ],
      "text/plain": [
       "     age   sex    bmi  children smoker     region    charges\n",
       "581   19  male  30.59         0     no  northwest  1639.5631"
      ]
     },
     "execution_count": 9,
     "metadata": {},
     "output_type": "execute_result"
    }
   ],
   "source": [
    "#visualizing the duplicated row\n",
    "data[data.duplicated()]"
   ]
  },
  {
   "cell_type": "markdown",
   "id": "08e84f96",
   "metadata": {
    "id": "08e84f96"
   },
   "source": [
    "The duplicated element is at row number 581, we need to drop this row\n"
   ]
  },
  {
   "cell_type": "code",
   "execution_count": 10,
   "id": "609b21f6",
   "metadata": {
    "executionInfo": {
     "elapsed": 266,
     "status": "ok",
     "timestamp": 1665337061667,
     "user": {
      "displayName": "Ebi Tunyan",
      "userId": "02090140657846476290"
     },
     "user_tz": -540
    },
    "id": "609b21f6"
   },
   "outputs": [],
   "source": [
    "#removing the duplicated element\n",
    "data.drop_duplicates(keep= 'first', inplace= True)"
   ]
  },
  {
   "cell_type": "code",
   "execution_count": 11,
   "id": "01b451b1",
   "metadata": {
    "colab": {
     "base_uri": "https://localhost:8080/"
    },
    "executionInfo": {
     "elapsed": 6,
     "status": "ok",
     "timestamp": 1665337063582,
     "user": {
      "displayName": "Ebi Tunyan",
      "userId": "02090140657846476290"
     },
     "user_tz": -540
    },
    "id": "01b451b1",
    "outputId": "a17d54ad-d264-45c4-c2e8-6d6eaa02482f"
   },
   "outputs": [
    {
     "name": "stdout",
     "output_type": "stream",
     "text": [
      "Dataset has 0 duplicate(s)\n"
     ]
    }
   ],
   "source": [
    "#checking if we successfully removed it\n",
    "print('Dataset has',  data.duplicated().sum(), 'duplicate(s)')"
   ]
  },
  {
   "cell_type": "code",
   "execution_count": 12,
   "id": "0fd69078",
   "metadata": {
    "colab": {
     "base_uri": "https://localhost:8080/",
     "height": 300
    },
    "executionInfo": {
     "elapsed": 292,
     "status": "ok",
     "timestamp": 1665337065598,
     "user": {
      "displayName": "Ebi Tunyan",
      "userId": "02090140657846476290"
     },
     "user_tz": -540
    },
    "id": "0fd69078",
    "outputId": "4ca21937-b981-4dcd-a284-d1a144f78f54"
   },
   "outputs": [
    {
     "data": {
      "text/html": [
       "<div>\n",
       "<style scoped>\n",
       "    .dataframe tbody tr th:only-of-type {\n",
       "        vertical-align: middle;\n",
       "    }\n",
       "\n",
       "    .dataframe tbody tr th {\n",
       "        vertical-align: top;\n",
       "    }\n",
       "\n",
       "    .dataframe thead th {\n",
       "        text-align: right;\n",
       "    }\n",
       "</style>\n",
       "<table border=\"1\" class=\"dataframe\">\n",
       "  <thead>\n",
       "    <tr style=\"text-align: right;\">\n",
       "      <th></th>\n",
       "      <th>age</th>\n",
       "      <th>bmi</th>\n",
       "      <th>children</th>\n",
       "      <th>charges</th>\n",
       "    </tr>\n",
       "  </thead>\n",
       "  <tbody>\n",
       "    <tr>\n",
       "      <th>count</th>\n",
       "      <td>1337.000000</td>\n",
       "      <td>1337.000000</td>\n",
       "      <td>1337.000000</td>\n",
       "      <td>1337.000000</td>\n",
       "    </tr>\n",
       "    <tr>\n",
       "      <th>mean</th>\n",
       "      <td>39.222139</td>\n",
       "      <td>30.663452</td>\n",
       "      <td>1.095737</td>\n",
       "      <td>13279.121487</td>\n",
       "    </tr>\n",
       "    <tr>\n",
       "      <th>std</th>\n",
       "      <td>14.044333</td>\n",
       "      <td>6.100468</td>\n",
       "      <td>1.205571</td>\n",
       "      <td>12110.359656</td>\n",
       "    </tr>\n",
       "    <tr>\n",
       "      <th>min</th>\n",
       "      <td>18.000000</td>\n",
       "      <td>15.960000</td>\n",
       "      <td>0.000000</td>\n",
       "      <td>1121.873900</td>\n",
       "    </tr>\n",
       "    <tr>\n",
       "      <th>25%</th>\n",
       "      <td>27.000000</td>\n",
       "      <td>26.290000</td>\n",
       "      <td>0.000000</td>\n",
       "      <td>4746.344000</td>\n",
       "    </tr>\n",
       "    <tr>\n",
       "      <th>50%</th>\n",
       "      <td>39.000000</td>\n",
       "      <td>30.400000</td>\n",
       "      <td>1.000000</td>\n",
       "      <td>9386.161300</td>\n",
       "    </tr>\n",
       "    <tr>\n",
       "      <th>75%</th>\n",
       "      <td>51.000000</td>\n",
       "      <td>34.700000</td>\n",
       "      <td>2.000000</td>\n",
       "      <td>16657.717450</td>\n",
       "    </tr>\n",
       "    <tr>\n",
       "      <th>max</th>\n",
       "      <td>64.000000</td>\n",
       "      <td>53.130000</td>\n",
       "      <td>5.000000</td>\n",
       "      <td>63770.428010</td>\n",
       "    </tr>\n",
       "  </tbody>\n",
       "</table>\n",
       "</div>"
      ],
      "text/plain": [
       "               age          bmi     children       charges\n",
       "count  1337.000000  1337.000000  1337.000000   1337.000000\n",
       "mean     39.222139    30.663452     1.095737  13279.121487\n",
       "std      14.044333     6.100468     1.205571  12110.359656\n",
       "min      18.000000    15.960000     0.000000   1121.873900\n",
       "25%      27.000000    26.290000     0.000000   4746.344000\n",
       "50%      39.000000    30.400000     1.000000   9386.161300\n",
       "75%      51.000000    34.700000     2.000000  16657.717450\n",
       "max      64.000000    53.130000     5.000000  63770.428010"
      ]
     },
     "execution_count": 12,
     "metadata": {},
     "output_type": "execute_result"
    }
   ],
   "source": [
    "#checking basic statistic information about the data set\n",
    "data.describe()"
   ]
  },
  {
   "cell_type": "markdown",
   "id": "b15d1b95",
   "metadata": {
    "id": "b15d1b95"
   },
   "source": [
    "Looking at the age column, we can see that the average age is 39 years, the data represents the distribution of an adult population.\n",
    "The bmi is normally distributed, the values of the mean and median are close.\n",
    "75% of the population have 2 or less children.\n",
    "The charges distribution is positively skewed because the mean is greater than the median value."
   ]
  },
  {
   "cell_type": "markdown",
   "id": "6a4c3a7a",
   "metadata": {
    "id": "6a4c3a7a"
   },
   "source": [
    "# EXPLORATORY DATA ANALYSIS\n"
   ]
  },
  {
   "cell_type": "markdown",
   "id": "9ddb1c29",
   "metadata": {
    "id": "9ddb1c29"
   },
   "source": [
    "### Examine the distribution of BMI in the data set"
   ]
  },
  {
   "cell_type": "code",
   "execution_count": 13,
   "id": "dabdeeb3",
   "metadata": {
    "colab": {
     "base_uri": "https://localhost:8080/",
     "height": 319
    },
    "executionInfo": {
     "elapsed": 594,
     "status": "ok",
     "timestamp": 1665337068793,
     "user": {
      "displayName": "Ebi Tunyan",
      "userId": "02090140657846476290"
     },
     "user_tz": -540
    },
    "id": "dabdeeb3",
    "outputId": "3136d80e-6ee5-4e9d-e030-6820737c9a56"
   },
   "outputs": [
    {
     "data": {
      "text/plain": [
       "Text(0.5, 1.0, 'BMI Distribution')"
      ]
     },
     "execution_count": 13,
     "metadata": {},
     "output_type": "execute_result"
    },
    {
     "data": {
      "image/png": "[encoded data removed]",
      "text/plain": [
       "<Figure size 432x288 with 1 Axes>"
      ]
     },
     "metadata": {},
     "output_type": "display_data"
    }
   ],
   "source": [
    "#insert grid lines for better readability\n",
    "sns.set(style= 'whitegrid')\n",
    "#plot a histogram of the bmi distribution\n",
    "sns.histplot(data, x='bmi', kde= True)\n",
    "plt.title('BMI Distribution')\n"
   ]
  },
  {
   "cell_type": "markdown",
   "id": "ac132cba",
   "metadata": {
    "id": "ac132cba"
   },
   "source": [
    "The bmi is normally distributed, the mode is 30"
   ]
  },
  {
   "cell_type": "markdown",
   "id": "a9effe42",
   "metadata": {
    "id": "a9effe42"
   },
   "source": [
    "### Examine the relationship between 'smoker' and 'charges'"
   ]
  },
  {
   "cell_type": "code",
   "execution_count": 14,
   "id": "3bed887b",
   "metadata": {
    "colab": {
     "base_uri": "https://localhost:8080/",
     "height": 303
    },
    "executionInfo": {
     "elapsed": 320,
     "status": "ok",
     "timestamp": 1665337072717,
     "user": {
      "displayName": "Ebi Tunyan",
      "userId": "02090140657846476290"
     },
     "user_tz": -540
    },
    "id": "3bed887b",
    "outputId": "011d3362-f1e8-47b7-8554-1c81fd189502"
   },
   "outputs": [
    {
     "data": {
      "text/plain": [
       "<AxesSubplot:xlabel='smoker', ylabel='charges'>"
      ]
     },
     "execution_count": 14,
     "metadata": {},
     "output_type": "execute_result"
    },
    {
     "data": {
      "image/png": "[encoded data removed]",
      "text/plain": [
       "<Figure size 432x288 with 1 Axes>"
      ]
     },
     "metadata": {},
     "output_type": "display_data"
    }
   ],
   "source": [
    "sns.scatterplot(x= 'smoker', y='charges', data=data)"
   ]
  },
  {
   "cell_type": "markdown",
   "id": "b76ac8fa",
   "metadata": {
    "id": "b76ac8fa"
   },
   "source": [
    "A smoker incurs more charges than a non-smoker"
   ]
  },
  {
   "cell_type": "markdown",
   "id": "7bbf11f4",
   "metadata": {
    "id": "7bbf11f4"
   },
   "source": [
    "### Examine the relationship between 'smoker' and 'region'"
   ]
  },
  {
   "cell_type": "code",
   "execution_count": 15,
   "id": "4b0e4844",
   "metadata": {
    "colab": {
     "base_uri": "https://localhost:8080/",
     "height": 300
    },
    "executionInfo": {
     "elapsed": 303,
     "status": "ok",
     "timestamp": 1665337074785,
     "user": {
      "displayName": "Ebi Tunyan",
      "userId": "02090140657846476290"
     },
     "user_tz": -540
    },
    "id": "4b0e4844",
    "outputId": "6b221bec-7cdf-4df3-8b63-31e47bf43f7e"
   },
   "outputs": [
    {
     "data": {
      "text/html": [
       "<div>\n",
       "<style scoped>\n",
       "    .dataframe tbody tr th:only-of-type {\n",
       "        vertical-align: middle;\n",
       "    }\n",
       "\n",
       "    .dataframe tbody tr th {\n",
       "        vertical-align: top;\n",
       "    }\n",
       "\n",
       "    .dataframe thead th {\n",
       "        text-align: right;\n",
       "    }\n",
       "</style>\n",
       "<table border=\"1\" class=\"dataframe\">\n",
       "  <thead>\n",
       "    <tr style=\"text-align: right;\">\n",
       "      <th></th>\n",
       "      <th>region</th>\n",
       "      <th>smoker</th>\n",
       "      <th>Count</th>\n",
       "    </tr>\n",
       "  </thead>\n",
       "  <tbody>\n",
       "    <tr>\n",
       "      <th>0</th>\n",
       "      <td>northeast</td>\n",
       "      <td>no</td>\n",
       "      <td>257</td>\n",
       "    </tr>\n",
       "    <tr>\n",
       "      <th>1</th>\n",
       "      <td>northeast</td>\n",
       "      <td>yes</td>\n",
       "      <td>67</td>\n",
       "    </tr>\n",
       "    <tr>\n",
       "      <th>2</th>\n",
       "      <td>northwest</td>\n",
       "      <td>no</td>\n",
       "      <td>266</td>\n",
       "    </tr>\n",
       "    <tr>\n",
       "      <th>3</th>\n",
       "      <td>northwest</td>\n",
       "      <td>yes</td>\n",
       "      <td>58</td>\n",
       "    </tr>\n",
       "    <tr>\n",
       "      <th>4</th>\n",
       "      <td>southeast</td>\n",
       "      <td>no</td>\n",
       "      <td>273</td>\n",
       "    </tr>\n",
       "    <tr>\n",
       "      <th>5</th>\n",
       "      <td>southeast</td>\n",
       "      <td>yes</td>\n",
       "      <td>91</td>\n",
       "    </tr>\n",
       "    <tr>\n",
       "      <th>6</th>\n",
       "      <td>southwest</td>\n",
       "      <td>no</td>\n",
       "      <td>267</td>\n",
       "    </tr>\n",
       "    <tr>\n",
       "      <th>7</th>\n",
       "      <td>southwest</td>\n",
       "      <td>yes</td>\n",
       "      <td>58</td>\n",
       "    </tr>\n",
       "  </tbody>\n",
       "</table>\n",
       "</div>"
      ],
      "text/plain": [
       "      region smoker  Count\n",
       "0  northeast     no    257\n",
       "1  northeast    yes     67\n",
       "2  northwest     no    266\n",
       "3  northwest    yes     58\n",
       "4  southeast     no    273\n",
       "5  southeast    yes     91\n",
       "6  southwest     no    267\n",
       "7  southwest    yes     58"
      ]
     },
     "execution_count": 15,
     "metadata": {},
     "output_type": "execute_result"
    }
   ],
   "source": [
    "#grouping the 'smoker' variable by the regions\n",
    "data.groupby(['region', 'smoker']).size().reset_index(name= 'Count')\n"
   ]
  },
  {
   "cell_type": "code",
   "execution_count": 16,
   "id": "117fc3d1",
   "metadata": {
    "colab": {
     "base_uri": "https://localhost:8080/",
     "height": 319
    },
    "executionInfo": {
     "elapsed": 315,
     "status": "ok",
     "timestamp": 1665337077523,
     "user": {
      "displayName": "Ebi Tunyan",
      "userId": "02090140657846476290"
     },
     "user_tz": -540
    },
    "id": "117fc3d1",
    "outputId": "42a3c2ab-fca1-470a-81fa-e81d683385fa"
   },
   "outputs": [
    {
     "data": {
      "text/plain": [
       "Text(0.5, 1.0, 'Smoker by Region')"
      ]
     },
     "execution_count": 16,
     "metadata": {},
     "output_type": "execute_result"
    },
    {
     "data": {
      "image/png": "[encoded data removed]",
      "text/plain": [
       "<Figure size 432x288 with 1 Axes>"
      ]
     },
     "metadata": {},
     "output_type": "display_data"
    }
   ],
   "source": [
    "sns.countplot(x= 'region', hue= 'smoker', data= data)\n",
    "plt.title('Smoker by Region')"
   ]
  },
  {
   "cell_type": "markdown",
   "id": "ed514924",
   "metadata": {
    "id": "ed514924"
   },
   "source": [
    "From above, we deduced that the region with the highest smokers in the SouthEast region. There is great difference between smokers and non-smokers in all the regions. "
   ]
  },
  {
   "cell_type": "markdown",
   "id": "ac60d857",
   "metadata": {
    "id": "ac60d857"
   },
   "source": [
    "### Examine the relationship between BMI and Sex"
   ]
  },
  {
   "cell_type": "code",
   "execution_count": 17,
   "id": "9c0d18da",
   "metadata": {
    "colab": {
     "base_uri": "https://localhost:8080/",
     "height": 383
    },
    "executionInfo": {
     "elapsed": 483,
     "status": "ok",
     "timestamp": 1665337080269,
     "user": {
      "displayName": "Ebi Tunyan",
      "userId": "02090140657846476290"
     },
     "user_tz": -540
    },
    "id": "9c0d18da",
    "outputId": "8e6891b7-f429-4fbe-de15-188843117fcc"
   },
   "outputs": [
    {
     "data": {
      "text/plain": [
       "<seaborn.axisgrid.FacetGrid at 0x1d5ed3c96d0>"
      ]
     },
     "execution_count": 17,
     "metadata": {},
     "output_type": "execute_result"
    },
    {
     "data": {
      "image/png": "[encoded data removed]",
      "text/plain": [
       "<Figure size 360x360 with 1 Axes>"
      ]
     },
     "metadata": {},
     "output_type": "display_data"
    }
   ],
   "source": [
    "sns.catplot(data= data, x= 'sex', y= 'bmi', kind= 'box')"
   ]
  },
  {
   "cell_type": "markdown",
   "id": "eefc3a6f",
   "metadata": {
    "id": "eefc3a6f"
   },
   "source": [
    "The median value of BMI for male is greater than 30, which is higher than that of female. The minimum BMI value for the male is lower than the female, while the maximum BMI value is greater than that of female. Both sexes have outliers in their BMI distribution."
   ]
  },
  {
   "cell_type": "markdown",
   "id": "53a7bd02",
   "metadata": {
    "id": "53a7bd02"
   },
   "source": [
    "### Find the region with the most children"
   ]
  },
  {
   "cell_type": "code",
   "execution_count": 18,
   "id": "391e97eb",
   "metadata": {
    "colab": {
     "base_uri": "https://localhost:8080/"
    },
    "executionInfo": {
     "elapsed": 506,
     "status": "ok",
     "timestamp": 1665337082732,
     "user": {
      "displayName": "Ebi Tunyan",
      "userId": "02090140657846476290"
     },
     "user_tz": -540
    },
    "id": "391e97eb",
    "outputId": "d27891c4-4420-4734-ce6f-1c36544bec3c"
   },
   "outputs": [
    {
     "data": {
      "text/plain": [
       "region\n",
       "northeast    339\n",
       "northwest    373\n",
       "southeast    382\n",
       "southwest    371\n",
       "Name: children, dtype: int64"
      ]
     },
     "execution_count": 18,
     "metadata": {},
     "output_type": "execute_result"
    }
   ],
   "source": [
    "#displaying the number of children by region\n",
    "num_of_children= data.groupby('region')['children'].sum()\n",
    "num_of_children"
   ]
  },
  {
   "cell_type": "code",
   "execution_count": 19,
   "id": "174149b3",
   "metadata": {
    "colab": {
     "base_uri": "https://localhost:8080/",
     "height": 302
    },
    "executionInfo": {
     "elapsed": 597,
     "status": "ok",
     "timestamp": 1665337084893,
     "user": {
      "displayName": "Ebi Tunyan",
      "userId": "02090140657846476290"
     },
     "user_tz": -540
    },
    "id": "174149b3",
    "outputId": "c64bb256-c230-47c9-f29c-3d5304b1d0c9"
   },
   "outputs": [
    {
     "data": {
      "text/plain": [
       "Text(0.5, 1.0, 'Children Count By Region')"
      ]
     },
     "execution_count": 19,
     "metadata": {},
     "output_type": "execute_result"
    },
    {
     "data": {
      "image/png": "[encoded data removed]",
      "text/plain": [
       "<Figure size 432x288 with 1 Axes>"
      ]
     },
     "metadata": {},
     "output_type": "display_data"
    }
   ],
   "source": [
    "sns.barplot(x = num_of_children.index.tolist(), y = num_of_children)\n",
    "plt.title('Children Count By Region')"
   ]
  },
  {
   "cell_type": "markdown",
   "id": "deec91bf",
   "metadata": {
    "id": "deec91bf"
   },
   "source": [
    "According to the graph above, the region with the most children is the Southeast"
   ]
  },
  {
   "cell_type": "markdown",
   "id": "41a489d6",
   "metadata": {
    "id": "41a489d6"
   },
   "source": [
    "### Examine the relationship between age and bmi"
   ]
  },
  {
   "cell_type": "code",
   "execution_count": 20,
   "id": "e17d50c6",
   "metadata": {
    "colab": {
     "base_uri": "https://localhost:8080/",
     "height": 319
    },
    "executionInfo": {
     "elapsed": 1650,
     "status": "ok",
     "timestamp": 1665337087859,
     "user": {
      "displayName": "Ebi Tunyan",
      "userId": "02090140657846476290"
     },
     "user_tz": -540
    },
    "id": "e17d50c6",
    "outputId": "0d3b302d-78dd-4cfa-be31-ecd9c8898aca"
   },
   "outputs": [
    {
     "data": {
      "text/plain": [
       "Text(0.5, 1.0, 'Age : BMI')"
      ]
     },
     "execution_count": 20,
     "metadata": {},
     "output_type": "execute_result"
    },
    {
     "data": {
      "image/png": "[encoded data removed]",
      "text/plain": [
       "<Figure size 432x288 with 1 Axes>"
      ]
     },
     "metadata": {},
     "output_type": "display_data"
    }
   ],
   "source": [
    "#showing this relationship using a lineplot, I removed the confidence interval by passing the argument, ci= None.\n",
    "sns.lineplot(data= data, x='age', y='bmi')\n",
    "plt.title('Age : BMI')"
   ]
  },
  {
   "cell_type": "markdown",
   "id": "543027dc",
   "metadata": {
    "id": "543027dc"
   },
   "source": [
    "Although the BMI flucatuates across different ages, there is a general increase in the BMI with age."
   ]
  },
  {
   "cell_type": "markdown",
   "id": "84a380be",
   "metadata": {
    "id": "84a380be"
   },
   "source": [
    "### Examine the relationship between bmi and children"
   ]
  },
  {
   "cell_type": "code",
   "execution_count": 21,
   "id": "92c1f3b0",
   "metadata": {
    "colab": {
     "base_uri": "https://localhost:8080/",
     "height": 269
    },
    "executionInfo": {
     "elapsed": 273,
     "status": "ok",
     "timestamp": 1665337090510,
     "user": {
      "displayName": "Ebi Tunyan",
      "userId": "02090140657846476290"
     },
     "user_tz": -540
    },
    "id": "92c1f3b0",
    "outputId": "4a01aa10-3a13-4c0f-af95-7e923ca7af39"
   },
   "outputs": [
    {
     "data": {
      "text/html": [
       "<div>\n",
       "<style scoped>\n",
       "    .dataframe tbody tr th:only-of-type {\n",
       "        vertical-align: middle;\n",
       "    }\n",
       "\n",
       "    .dataframe tbody tr th {\n",
       "        vertical-align: top;\n",
       "    }\n",
       "\n",
       "    .dataframe thead th {\n",
       "        text-align: right;\n",
       "    }\n",
       "</style>\n",
       "<table border=\"1\" class=\"dataframe\">\n",
       "  <thead>\n",
       "    <tr style=\"text-align: right;\">\n",
       "      <th></th>\n",
       "      <th>count</th>\n",
       "      <th>mean</th>\n",
       "      <th>std</th>\n",
       "      <th>min</th>\n",
       "      <th>25%</th>\n",
       "      <th>50%</th>\n",
       "      <th>75%</th>\n",
       "      <th>max</th>\n",
       "    </tr>\n",
       "    <tr>\n",
       "      <th>children</th>\n",
       "      <th></th>\n",
       "      <th></th>\n",
       "      <th></th>\n",
       "      <th></th>\n",
       "      <th></th>\n",
       "      <th></th>\n",
       "      <th></th>\n",
       "      <th></th>\n",
       "    </tr>\n",
       "  </thead>\n",
       "  <tbody>\n",
       "    <tr>\n",
       "      <th>0</th>\n",
       "      <td>573.0</td>\n",
       "      <td>30.550227</td>\n",
       "      <td>6.044383</td>\n",
       "      <td>15.960</td>\n",
       "      <td>26.12500</td>\n",
       "      <td>30.300</td>\n",
       "      <td>34.7700</td>\n",
       "      <td>53.13</td>\n",
       "    </tr>\n",
       "    <tr>\n",
       "      <th>1</th>\n",
       "      <td>324.0</td>\n",
       "      <td>30.623148</td>\n",
       "      <td>6.101435</td>\n",
       "      <td>16.815</td>\n",
       "      <td>26.61500</td>\n",
       "      <td>30.015</td>\n",
       "      <td>34.2375</td>\n",
       "      <td>52.58</td>\n",
       "    </tr>\n",
       "    <tr>\n",
       "      <th>2</th>\n",
       "      <td>240.0</td>\n",
       "      <td>30.978104</td>\n",
       "      <td>6.509644</td>\n",
       "      <td>16.815</td>\n",
       "      <td>25.78625</td>\n",
       "      <td>31.640</td>\n",
       "      <td>35.3575</td>\n",
       "      <td>48.07</td>\n",
       "    </tr>\n",
       "    <tr>\n",
       "      <th>3</th>\n",
       "      <td>157.0</td>\n",
       "      <td>30.684331</td>\n",
       "      <td>5.787173</td>\n",
       "      <td>18.905</td>\n",
       "      <td>27.26500</td>\n",
       "      <td>30.495</td>\n",
       "      <td>34.3200</td>\n",
       "      <td>46.53</td>\n",
       "    </tr>\n",
       "    <tr>\n",
       "      <th>4</th>\n",
       "      <td>25.0</td>\n",
       "      <td>31.391200</td>\n",
       "      <td>4.627211</td>\n",
       "      <td>24.415</td>\n",
       "      <td>28.21500</td>\n",
       "      <td>29.640</td>\n",
       "      <td>33.6600</td>\n",
       "      <td>41.47</td>\n",
       "    </tr>\n",
       "    <tr>\n",
       "      <th>5</th>\n",
       "      <td>18.0</td>\n",
       "      <td>29.605000</td>\n",
       "      <td>7.139686</td>\n",
       "      <td>18.300</td>\n",
       "      <td>24.30250</td>\n",
       "      <td>28.550</td>\n",
       "      <td>33.0550</td>\n",
       "      <td>46.75</td>\n",
       "    </tr>\n",
       "  </tbody>\n",
       "</table>\n",
       "</div>"
      ],
      "text/plain": [
       "          count       mean       std     min       25%     50%      75%    max\n",
       "children                                                                      \n",
       "0         573.0  30.550227  6.044383  15.960  26.12500  30.300  34.7700  53.13\n",
       "1         324.0  30.623148  6.101435  16.815  26.61500  30.015  34.2375  52.58\n",
       "2         240.0  30.978104  6.509644  16.815  25.78625  31.640  35.3575  48.07\n",
       "3         157.0  30.684331  5.787173  18.905  27.26500  30.495  34.3200  46.53\n",
       "4          25.0  31.391200  4.627211  24.415  28.21500  29.640  33.6600  41.47\n",
       "5          18.0  29.605000  7.139686  18.300  24.30250  28.550  33.0550  46.75"
      ]
     },
     "execution_count": 21,
     "metadata": {},
     "output_type": "execute_result"
    }
   ],
   "source": [
    "data.groupby(['children'])['bmi'].describe()"
   ]
  },
  {
   "cell_type": "code",
   "execution_count": 22,
   "id": "db4c0e30",
   "metadata": {
    "colab": {
     "base_uri": "https://localhost:8080/",
     "height": 319
    },
    "executionInfo": {
     "elapsed": 874,
     "status": "ok",
     "timestamp": 1665337093106,
     "user": {
      "displayName": "Ebi Tunyan",
      "userId": "02090140657846476290"
     },
     "user_tz": -540
    },
    "id": "db4c0e30",
    "outputId": "28c996d4-d1fa-47f6-be54-2a44a17ebfdf",
    "scrolled": true
   },
   "outputs": [
    {
     "data": {
      "text/plain": [
       "Text(0.5, 1.0, 'BMI : Children')"
      ]
     },
     "execution_count": 22,
     "metadata": {},
     "output_type": "execute_result"
    },
    {
     "data": {
      "image/png": "[encoded data removed]",
      "text/plain": [
       "<Figure size 432x288 with 1 Axes>"
      ]
     },
     "metadata": {},
     "output_type": "display_data"
    }
   ],
   "source": [
    "sns.lineplot(data= data, x= 'children', y= 'bmi')\n",
    "plt.title('BMI : Children')"
   ]
  },
  {
   "cell_type": "markdown",
   "id": "562a6d84",
   "metadata": {
    "id": "562a6d84"
   },
   "source": [
    "There is no linear relationship between BMI and children. The BMI remains fairly constant with 0 and 1 child, increases with 2 children and decreases afterthen rises after 3, peaks at 4 and steadily decreases after 4 children. "
   ]
  },
  {
   "cell_type": "markdown",
   "id": "247fc9f2",
   "metadata": {
    "id": "247fc9f2"
   },
   "source": [
    "### Is there an outlier in the bmi variable, please review"
   ]
  },
  {
   "cell_type": "code",
   "execution_count": 23,
   "id": "0981e1ef",
   "metadata": {
    "colab": {
     "base_uri": "https://localhost:8080/",
     "height": 319
    },
    "executionInfo": {
     "elapsed": 424,
     "status": "ok",
     "timestamp": 1665337095428,
     "user": {
      "displayName": "Ebi Tunyan",
      "userId": "02090140657846476290"
     },
     "user_tz": -540
    },
    "id": "0981e1ef",
    "outputId": "0886c062-6d59-4b4c-e4f7-6ba10c3c226a"
   },
   "outputs": [
    {
     "data": {
      "text/plain": [
       "Text(0.5, 1.0, 'BMI Distribution')"
      ]
     },
     "execution_count": 23,
     "metadata": {},
     "output_type": "execute_result"
    },
    {
     "data": {
      "image/png": "[encoded data removed]",
      "text/plain": [
       "<Figure size 432x288 with 1 Axes>"
      ]
     },
     "metadata": {},
     "output_type": "display_data"
    }
   ],
   "source": [
    "#using the box plot\n",
    "sns.boxplot(x= 'bmi', data=data)\n",
    "plt.title('BMI Distribution')"
   ]
  },
  {
   "cell_type": "markdown",
   "id": "0b71c53d",
   "metadata": {
    "id": "0b71c53d"
   },
   "source": [
    "The values outside the whiskers reperesent outliers. So yes, there are outliers in the bmi variable."
   ]
  },
  {
   "cell_type": "markdown",
   "id": "caed36d2",
   "metadata": {
    "id": "caed36d2"
   },
   "source": [
    "### Examine the relationship between bmi and charges"
   ]
  },
  {
   "cell_type": "code",
   "execution_count": 24,
   "id": "7dca7136",
   "metadata": {
    "colab": {
     "base_uri": "https://localhost:8080/",
     "height": 319
    },
    "executionInfo": {
     "elapsed": 1003,
     "status": "ok",
     "timestamp": 1665337098375,
     "user": {
      "displayName": "Ebi Tunyan",
      "userId": "02090140657846476290"
     },
     "user_tz": -540
    },
    "id": "7dca7136",
    "outputId": "036ebfe7-1ca2-46dd-deaf-9134b4e75dd9",
    "scrolled": true
   },
   "outputs": [
    {
     "data": {
      "text/plain": [
       "Text(0.5, 1.0, 'Charges : BMI')"
      ]
     },
     "execution_count": 24,
     "metadata": {},
     "output_type": "execute_result"
    },
    {
     "data": {
      "image/png": "[encoded data removed]",
      "text/plain": [
       "<Figure size 432x288 with 1 Axes>"
      ]
     },
     "metadata": {},
     "output_type": "display_data"
    }
   ],
   "source": [
    "sns.scatterplot(x= 'bmi', y= 'charges',hue= 'sex', data= data)\n",
    "plt.title('Charges : BMI')"
   ]
  },
  {
   "cell_type": "markdown",
   "id": "ea35ddbe",
   "metadata": {
    "id": "ea35ddbe"
   },
   "source": [
    "There is no clear relationship between BMI and charges. The charges vary for other reasons.\n"
   ]
  },
  {
   "cell_type": "markdown",
   "id": "bac2c5c9",
   "metadata": {
    "id": "bac2c5c9"
   },
   "source": [
    "### Examine the relationship between Region, Smoker, and BMI"
   ]
  },
  {
   "cell_type": "code",
   "execution_count": 25,
   "id": "7f318e99",
   "metadata": {
    "colab": {
     "base_uri": "https://localhost:8080/",
     "height": 303
    },
    "executionInfo": {
     "elapsed": 758,
     "status": "ok",
     "timestamp": 1665337100384,
     "user": {
      "displayName": "Ebi Tunyan",
      "userId": "02090140657846476290"
     },
     "user_tz": -540
    },
    "id": "7f318e99",
    "outputId": "1fae092f-7067-4e60-92cb-0189d9d6fb76"
   },
   "outputs": [
    {
     "data": {
      "text/plain": [
       "<AxesSubplot:xlabel='bmi', ylabel='region'>"
      ]
     },
     "execution_count": 25,
     "metadata": {},
     "output_type": "execute_result"
    },
    {
     "data": {
      "image/png": "[encoded data removed]",
      "text/plain": [
       "<Figure size 432x288 with 1 Axes>"
      ]
     },
     "metadata": {},
     "output_type": "display_data"
    }
   ],
   "source": [
    "sns.barplot(data=data, x= 'bmi', y= 'region', hue= 'smoker', palette= 'Paired')"
   ]
  },
  {
   "cell_type": "markdown",
   "id": "647f45f1",
   "metadata": {
    "id": "647f45f1"
   },
   "source": [
    "There are slight differences between the BMIs of smokers and non-smokers across all regions except the Northwest region where the distribution of BMIs is almost negligible."
   ]
  },
  {
   "cell_type": "markdown",
   "id": "RqrWejWh1EHS",
   "metadata": {
    "id": "RqrWejWh1EHS"
   },
   "source": [
    "# DATA PROCESSING"
   ]
  },
  {
   "cell_type": "code",
   "execution_count": 26,
   "id": "VcseqjQ206S9",
   "metadata": {
    "executionInfo": {
     "elapsed": 269,
     "status": "ok",
     "timestamp": 1665337184960,
     "user": {
      "displayName": "Ebi Tunyan",
      "userId": "02090140657846476290"
     },
     "user_tz": -540
    },
    "id": "VcseqjQ206S9"
   },
   "outputs": [],
   "source": [
    "#custom class to encode multiple columns since the default LabelEncoder() only takes a 1-d array as an argument \n",
    "class MultiColumnLabelEncoder:\n",
    "    def __init__(self,columns = None):\n",
    "        self.columns = columns # array of column names to encode\n",
    "\n",
    "    def fit(self,X,y=None):\n",
    "        return self # not relevant here\n",
    "\n",
    "    def transform(self,X):\n",
    "        '''\n",
    "        Transforms columns of X specified in self.columns using\n",
    "        LabelEncoder(). If no columns specified, transforms all\n",
    "        columns in X.\n",
    "        '''\n",
    "        output = X.copy()\n",
    "        if self.columns is not None:\n",
    "            for col in self.columns:\n",
    "                output[col] = LabelEncoder().fit_transform(output[col])\n",
    "        else:\n",
    "            for colname,col in output.iteritems():\n",
    "                output[colname] = LabelEncoder().fit_transform(col)\n",
    "        return output\n",
    "\n",
    "    def fit_transform(self,X,y=None):\n",
    "        return self.fit(X,y).transform(X)"
   ]
  },
  {
   "cell_type": "code",
   "execution_count": 27,
   "id": "QqDvBvQT1Np4",
   "metadata": {
    "colab": {
     "base_uri": "https://localhost:8080/",
     "height": 424
    },
    "executionInfo": {
     "elapsed": 9,
     "status": "ok",
     "timestamp": 1665337198450,
     "user": {
      "displayName": "Ebi Tunyan",
      "userId": "02090140657846476290"
     },
     "user_tz": -540
    },
    "id": "QqDvBvQT1Np4",
    "outputId": "dbb58f07-5d65-4f4b-a183-0d77c4a62977"
   },
   "outputs": [
    {
     "data": {
      "text/html": [
       "<div>\n",
       "<style scoped>\n",
       "    .dataframe tbody tr th:only-of-type {\n",
       "        vertical-align: middle;\n",
       "    }\n",
       "\n",
       "    .dataframe tbody tr th {\n",
       "        vertical-align: top;\n",
       "    }\n",
       "\n",
       "    .dataframe thead th {\n",
       "        text-align: right;\n",
       "    }\n",
       "</style>\n",
       "<table border=\"1\" class=\"dataframe\">\n",
       "  <thead>\n",
       "    <tr style=\"text-align: right;\">\n",
       "      <th></th>\n",
       "      <th>age</th>\n",
       "      <th>sex</th>\n",
       "      <th>bmi</th>\n",
       "      <th>children</th>\n",
       "      <th>smoker</th>\n",
       "      <th>region</th>\n",
       "      <th>charges</th>\n",
       "    </tr>\n",
       "  </thead>\n",
       "  <tbody>\n",
       "    <tr>\n",
       "      <th>0</th>\n",
       "      <td>19</td>\n",
       "      <td>0</td>\n",
       "      <td>27.900</td>\n",
       "      <td>0</td>\n",
       "      <td>1</td>\n",
       "      <td>3</td>\n",
       "      <td>16884.92400</td>\n",
       "    </tr>\n",
       "    <tr>\n",
       "      <th>1</th>\n",
       "      <td>18</td>\n",
       "      <td>1</td>\n",
       "      <td>33.770</td>\n",
       "      <td>1</td>\n",
       "      <td>0</td>\n",
       "      <td>2</td>\n",
       "      <td>1725.55230</td>\n",
       "    </tr>\n",
       "    <tr>\n",
       "      <th>2</th>\n",
       "      <td>28</td>\n",
       "      <td>1</td>\n",
       "      <td>33.000</td>\n",
       "      <td>3</td>\n",
       "      <td>0</td>\n",
       "      <td>2</td>\n",
       "      <td>4449.46200</td>\n",
       "    </tr>\n",
       "    <tr>\n",
       "      <th>3</th>\n",
       "      <td>33</td>\n",
       "      <td>1</td>\n",
       "      <td>22.705</td>\n",
       "      <td>0</td>\n",
       "      <td>0</td>\n",
       "      <td>1</td>\n",
       "      <td>21984.47061</td>\n",
       "    </tr>\n",
       "    <tr>\n",
       "      <th>4</th>\n",
       "      <td>32</td>\n",
       "      <td>1</td>\n",
       "      <td>28.880</td>\n",
       "      <td>0</td>\n",
       "      <td>0</td>\n",
       "      <td>1</td>\n",
       "      <td>3866.85520</td>\n",
       "    </tr>\n",
       "    <tr>\n",
       "      <th>...</th>\n",
       "      <td>...</td>\n",
       "      <td>...</td>\n",
       "      <td>...</td>\n",
       "      <td>...</td>\n",
       "      <td>...</td>\n",
       "      <td>...</td>\n",
       "      <td>...</td>\n",
       "    </tr>\n",
       "    <tr>\n",
       "      <th>1333</th>\n",
       "      <td>50</td>\n",
       "      <td>1</td>\n",
       "      <td>30.970</td>\n",
       "      <td>3</td>\n",
       "      <td>0</td>\n",
       "      <td>1</td>\n",
       "      <td>10600.54830</td>\n",
       "    </tr>\n",
       "    <tr>\n",
       "      <th>1334</th>\n",
       "      <td>18</td>\n",
       "      <td>0</td>\n",
       "      <td>31.920</td>\n",
       "      <td>0</td>\n",
       "      <td>0</td>\n",
       "      <td>0</td>\n",
       "      <td>2205.98080</td>\n",
       "    </tr>\n",
       "    <tr>\n",
       "      <th>1335</th>\n",
       "      <td>18</td>\n",
       "      <td>0</td>\n",
       "      <td>36.850</td>\n",
       "      <td>0</td>\n",
       "      <td>0</td>\n",
       "      <td>2</td>\n",
       "      <td>1629.83350</td>\n",
       "    </tr>\n",
       "    <tr>\n",
       "      <th>1336</th>\n",
       "      <td>21</td>\n",
       "      <td>0</td>\n",
       "      <td>25.800</td>\n",
       "      <td>0</td>\n",
       "      <td>0</td>\n",
       "      <td>3</td>\n",
       "      <td>2007.94500</td>\n",
       "    </tr>\n",
       "    <tr>\n",
       "      <th>1337</th>\n",
       "      <td>61</td>\n",
       "      <td>0</td>\n",
       "      <td>29.070</td>\n",
       "      <td>0</td>\n",
       "      <td>1</td>\n",
       "      <td>1</td>\n",
       "      <td>29141.36030</td>\n",
       "    </tr>\n",
       "  </tbody>\n",
       "</table>\n",
       "<p>1337 rows × 7 columns</p>\n",
       "</div>"
      ],
      "text/plain": [
       "      age  sex     bmi  children  smoker  region      charges\n",
       "0      19    0  27.900         0       1       3  16884.92400\n",
       "1      18    1  33.770         1       0       2   1725.55230\n",
       "2      28    1  33.000         3       0       2   4449.46200\n",
       "3      33    1  22.705         0       0       1  21984.47061\n",
       "4      32    1  28.880         0       0       1   3866.85520\n",
       "...   ...  ...     ...       ...     ...     ...          ...\n",
       "1333   50    1  30.970         3       0       1  10600.54830\n",
       "1334   18    0  31.920         0       0       0   2205.98080\n",
       "1335   18    0  36.850         0       0       2   1629.83350\n",
       "1336   21    0  25.800         0       0       3   2007.94500\n",
       "1337   61    0  29.070         0       1       1  29141.36030\n",
       "\n",
       "[1337 rows x 7 columns]"
      ]
     },
     "execution_count": 27,
     "metadata": {},
     "output_type": "execute_result"
    }
   ],
   "source": [
    "# Changing categorical variables; sex, smoker, and region to numerical variables using one-hot encoding technique\n",
    "data = MultiColumnLabelEncoder(columns = ['sex','smoker','region']).fit_transform(data)\n",
    "data"
   ]
  },
  {
   "cell_type": "code",
   "execution_count": 28,
   "id": "jsiLIBKv1ROF",
   "metadata": {
    "colab": {
     "base_uri": "https://localhost:8080/",
     "height": 501
    },
    "executionInfo": {
     "elapsed": 809,
     "status": "ok",
     "timestamp": 1665337261341,
     "user": {
      "displayName": "Ebi Tunyan",
      "userId": "02090140657846476290"
     },
     "user_tz": -540
    },
    "id": "jsiLIBKv1ROF",
    "outputId": "44c2c239-3d66-49f9-a403-2c8365b9cc94"
   },
   "outputs": [
    {
     "data": {
      "image/png": "[encoded data removed]",
      "text/plain": [
       "<Figure size 720x576 with 2 Axes>"
      ]
     },
     "metadata": {},
     "output_type": "display_data"
    }
   ],
   "source": [
    "#Checking correlation between features\n",
    "plt.figure(figsize=(10,8)) \n",
    "plt.title('Correlation of variables')\n",
    "sns.heatmap(data.corr(),vmax=1.0, fmt='.2f', linewidths=5, annot=True)\n",
    "plt.show()"
   ]
  },
  {
   "cell_type": "code",
   "execution_count": 29,
   "id": "A9Yg52vg1XTS",
   "metadata": {
    "colab": {
     "base_uri": "https://localhost:8080/"
    },
    "executionInfo": {
     "elapsed": 2,
     "status": "ok",
     "timestamp": 1665337262808,
     "user": {
      "displayName": "Ebi Tunyan",
      "userId": "02090140657846476290"
     },
     "user_tz": -540
    },
    "id": "A9Yg52vg1XTS",
    "outputId": "21f8d130-27d6-450b-8d92-dd77e1439dc5"
   },
   "outputs": [
    {
     "data": {
      "text/plain": [
       "charges     1.000000\n",
       "smoker      0.787234\n",
       "age         0.298308\n",
       "bmi         0.198401\n",
       "children    0.067389\n",
       "sex         0.058044\n",
       "region     -0.006547\n",
       "Name: charges, dtype: float64"
      ]
     },
     "execution_count": 29,
     "metadata": {},
     "output_type": "execute_result"
    }
   ],
   "source": [
    "#Correlation: checking which inputs has the most impact on the output i.e charges\n",
    "data.corr()[\"charges\"].sort_values(ascending=False)  "
   ]
  },
  {
   "cell_type": "code",
   "execution_count": 30,
   "id": "0FLnSWgk1i1E",
   "metadata": {
    "executionInfo": {
     "elapsed": 2,
     "status": "ok",
     "timestamp": 1665337277096,
     "user": {
      "displayName": "Ebi Tunyan",
      "userId": "02090140657846476290"
     },
     "user_tz": -540
    },
    "id": "0FLnSWgk1i1E"
   },
   "outputs": [],
   "source": [
    "#Assigning X and y variables\n",
    "X = data.drop(['charges'],axis=1)\n",
    "y = data.loc[:,\"charges\"]"
   ]
  },
  {
   "cell_type": "code",
   "execution_count": 31,
   "id": "xlhZ4Cop1lj_",
   "metadata": {
    "executionInfo": {
     "elapsed": 262,
     "status": "ok",
     "timestamp": 1665337287262,
     "user": {
      "displayName": "Ebi Tunyan",
      "userId": "02090140657846476290"
     },
     "user_tz": -540
    },
    "id": "xlhZ4Cop1lj_"
   },
   "outputs": [],
   "source": [
    "#Split the dataset into train and test sets with 70-30 ratio\n",
    "Xtrain, Xtest, ytrain, ytest = train_test_split(X,y, test_size=0.3)"
   ]
  },
  {
   "cell_type": "code",
   "execution_count": 32,
   "id": "ZoNjIW4w1nsj",
   "metadata": {
    "executionInfo": {
     "elapsed": 1,
     "status": "ok",
     "timestamp": 1665337295850,
     "user": {
      "displayName": "Ebi Tunyan",
      "userId": "02090140657846476290"
     },
     "user_tz": -540
    },
    "id": "ZoNjIW4w1nsj"
   },
   "outputs": [],
   "source": [
    "#Saving the columns names\n",
    "feature_names = Xtrain.columns"
   ]
  },
  {
   "cell_type": "markdown",
   "id": "bdb7200d",
   "metadata": {},
   "source": [
    "### Scaling by Normalizing"
   ]
  },
  {
   "cell_type": "code",
   "execution_count": 33,
   "id": "CQJW8pbs1p9Q",
   "metadata": {
    "executionInfo": {
     "elapsed": 2,
     "status": "ok",
     "timestamp": 1665337305492,
     "user": {
      "displayName": "Ebi Tunyan",
      "userId": "02090140657846476290"
     },
     "user_tz": -540
    },
    "id": "CQJW8pbs1p9Q"
   },
   "outputs": [],
   "source": [
    "#Using the standard scaling to scale the data\n",
    "scaler = StandardScaler()\n",
    "Xtrain = scaler.fit_transform(Xtrain)\n",
    "Xtest = scaler.fit_transform(Xtest)\n",
    "Xtrain = pd.DataFrame(Xtrain,columns=feature_names)\n",
    "Xtest = pd.DataFrame(Xtest,columns=feature_names)"
   ]
  },
  {
   "cell_type": "markdown",
   "id": "e707424a",
   "metadata": {},
   "source": [
    "# MODEL SELECTION"
   ]
  },
  {
   "cell_type": "code",
   "execution_count": 34,
   "id": "pjHuMBJW1sFT",
   "metadata": {
    "executionInfo": {
     "elapsed": 2,
     "status": "ok",
     "timestamp": 1665337314205,
     "user": {
      "displayName": "Ebi Tunyan",
      "userId": "02090140657846476290"
     },
     "user_tz": -540
    },
    "id": "pjHuMBJW1sFT"
   },
   "outputs": [],
   "source": [
    "#initialize Machine learning models\n",
    "linear_reg = LinearRegression()\n",
    "lasso_reg  = Lasso(alpha=0.1)\n",
    "ridge_reg = Ridge(alpha=0.05)\n",
    "el_reg = ElasticNet(alpha=0.1)\n",
    "tree_reg = DecisionTreeRegressor(random_state = 0)\n",
    "forest_regressor = RandomForestRegressor()"
   ]
  },
  {
   "cell_type": "code",
   "execution_count": 34,
   "id": "tF7ExqNw1vnD",
   "metadata": {
    "colab": {
     "base_uri": "https://localhost:8080/"
    },
    "executionInfo": {
     "elapsed": 855,
     "status": "ok",
     "timestamp": 1665337329042,
     "user": {
      "displayName": "Ebi Tunyan",
      "userId": "02090140657846476290"
     },
     "user_tz": -540
    },
    "id": "tF7ExqNw1vnD",
    "outputId": "748b555a-c03a-4851-d888-908c89b61053"
   },
   "outputs": [
    {
     "data": {
      "text/plain": [
       "RandomForestRegressor()"
      ]
     },
     "execution_count": 34,
     "metadata": {},
     "output_type": "execute_result"
    }
   ],
   "source": [
    "#Fitting the machine learning models\n",
    "linear_reg.fit(Xtrain, ytrain)\n",
    "lasso_reg.fit(Xtrain, ytrain)\n",
    "ridge_reg.fit(Xtrain, ytrain)\n",
    "el_reg.fit(Xtrain, ytrain)\n",
    "tree_reg.fit(Xtrain, ytrain)\n",
    "forest_regressor.fit(Xtrain, ytrain)"
   ]
  },
  {
   "cell_type": "code",
   "execution_count": 35,
   "id": "nZgXUEBb1wyE",
   "metadata": {
    "colab": {
     "base_uri": "https://localhost:8080/"
    },
    "executionInfo": {
     "elapsed": 2780,
     "status": "ok",
     "timestamp": 1665337346493,
     "user": {
      "displayName": "Ebi Tunyan",
      "userId": "02090140657846476290"
     },
     "user_tz": -540
    },
    "id": "nZgXUEBb1wyE",
    "outputId": "4d4cabcd-57b5-4e58-ad88-05ec3108b227",
    "scrolled": true
   },
   "outputs": [
    {
     "name": "stdout",
     "output_type": "stream",
     "text": [
      "Validated LinearRegression:  0.7471285330088384\n",
      "Validated Lasso:  0.7471293257862935\n",
      "Validated Ridge:  0.7471290084630375\n",
      "Validated ElasticNet:  0.7123647165211566\n",
      "Validated DecisionTreeRegressor:  0.7045774119391497\n",
      "Validated RandomForestRegressor:  0.8360997452314974\n"
     ]
    }
   ],
   "source": [
    "#cross validation: using k = 5 for 5-fold cross validation\n",
    "\n",
    "def cross_val(model):\n",
    "  k = 5\n",
    "  pred = cross_val_score(model, X, y, cv=k)\n",
    "  return pred.mean()\n",
    "\n",
    "validated_linear_reg = cross_val(linear_reg)\n",
    "validated_lasso_reg = cross_val(lasso_reg)\n",
    "validated_ridge_reg = cross_val(ridge_reg)\n",
    "validated_el_reg = cross_val(el_reg)\n",
    "validated_tree_reg = cross_val(tree_reg)\n",
    "validated_forest_regressor = cross_val(forest_regressor)\n",
    "\n",
    "print('Validated LinearRegression: ', validated_linear_reg)\n",
    "print('Validated Lasso: ', validated_lasso_reg)\n",
    "print('Validated Ridge: ', validated_ridge_reg)\n",
    "print('Validated ElasticNet: ', validated_el_reg)\n",
    "print('Validated DecisionTreeRegressor: ', validated_tree_reg)\n",
    "print('Validated RandomForestRegressor: ', validated_forest_regressor)"
   ]
  },
  {
   "cell_type": "markdown",
   "id": "mXO-zih42AT8",
   "metadata": {
    "id": "mXO-zih42AT8"
   },
   "source": [
    "The best performing model is the Random Forest Regressor with CV of 0.8"
   ]
  },
  {
   "cell_type": "markdown",
   "id": "71409b08",
   "metadata": {},
   "source": [
    "# HYPER-PARAMETER OPTIMIZATION"
   ]
  },
  {
   "cell_type": "code",
   "execution_count": 36,
   "id": "h7Sx8jjv13Xd",
   "metadata": {
    "colab": {
     "base_uri": "https://localhost:8080/"
    },
    "executionInfo": {
     "elapsed": 58898,
     "status": "ok",
     "timestamp": 1665337423268,
     "user": {
      "displayName": "Ebi Tunyan",
      "userId": "02090140657846476290"
     },
     "user_tz": -540
    },
    "id": "h7Sx8jjv13Xd",
    "outputId": "223e470c-7bbb-4b1b-b74f-397633496d39"
   },
   "outputs": [
    {
     "name": "stdout",
     "output_type": "stream",
     "text": [
      "Fitting 3 folds for each of 100 candidates, totalling 300 fits\n"
     ]
    },
    {
     "data": {
      "text/plain": [
       "{'n_estimators': 52,\n",
       " 'min_samples_split': 2,\n",
       " 'min_samples_leaf': 4,\n",
       " 'max_features': 'auto',\n",
       " 'max_depth': 40,\n",
       " 'bootstrap': True}"
      ]
     },
     "execution_count": 36,
     "metadata": {},
     "output_type": "execute_result"
    }
   ],
   "source": [
    "#using ramdomized search for hyperparameter tuning\n",
    "# Number of trees in random forest\n",
    "n_estimators = [int(x) for x in np.linspace(start = 10, stop = 200, num = 10)]\n",
    "# Number of features to consider at every split\n",
    "max_features = ['auto', 'sqrt']\n",
    "# Maximum number of levels in tree\n",
    "max_depth = [int(x) for x in np.linspace(10, 110, num = 11)]\n",
    "max_depth.append(None)\n",
    "# Minimum number of samples required to split a node\n",
    "min_samples_split = [2, 5, 10]\n",
    "# Minimum number of samples required at each leaf node\n",
    "min_samples_leaf = [1, 2, 4]\n",
    "# Method of selecting samples for training each tree\n",
    "bootstrap = [True, False]\n",
    "# Create the random grid\n",
    "random_grid = {'n_estimators': n_estimators,\n",
    "               'max_features': max_features,\n",
    "               'max_depth': max_depth,\n",
    "               'min_samples_split': min_samples_split,\n",
    "               'min_samples_leaf': min_samples_leaf,\n",
    "               'bootstrap': bootstrap}\n",
    "\n",
    "# Random search of parameters, using 3 fold cross validation, \n",
    "# search across 100 different combinations, and use all available cores\n",
    "forest_regressor_random = RandomizedSearchCV(estimator = forest_regressor, param_distributions = random_grid, n_iter = 100, cv = 3, verbose=2, random_state=42, n_jobs = -1)\n",
    "# Fit the random search model\n",
    "forest_regressor_random.fit(Xtrain, ytrain)\n",
    "#Knowning the best params\n",
    "forest_regressor_random.best_params_"
   ]
  },
  {
   "cell_type": "code",
   "execution_count": 37,
   "id": "c16qFhB22BrZ",
   "metadata": {
    "executionInfo": {
     "elapsed": 4,
     "status": "ok",
     "timestamp": 1665337423269,
     "user": {
      "displayName": "Ebi Tunyan",
      "userId": "02090140657846476290"
     },
     "user_tz": -540
    },
    "id": "c16qFhB22BrZ"
   },
   "outputs": [],
   "source": [
    "# Predicting with best params\n",
    "y_Search = forest_regressor_random.predict(Xtest)"
   ]
  },
  {
   "cell_type": "markdown",
   "id": "58c9dc40",
   "metadata": {},
   "source": [
    "# MODEL EVALUATION"
   ]
  },
  {
   "cell_type": "code",
   "execution_count": 38,
   "id": "cGsYY-f32GUH",
   "metadata": {
    "executionInfo": {
     "elapsed": 3,
     "status": "ok",
     "timestamp": 1665337423269,
     "user": {
      "displayName": "Ebi Tunyan",
      "userId": "02090140657846476290"
     },
     "user_tz": -540
    },
    "id": "cGsYY-f32GUH"
   },
   "outputs": [],
   "source": [
    "#model evaluation    \n",
    "def evaluate(true, predicted):\n",
    "    mae = metrics.mean_absolute_error(true, predicted)\n",
    "    mse = metrics.mean_squared_error(true, predicted)\n",
    "    rmse = np.sqrt(metrics.mean_squared_error(true, predicted))\n",
    "    r2_square = metrics.r2_score(true, predicted)\n",
    "    print('MAE:', mae)\n",
    "    print('MSE:', mse)\n",
    "    print('RMSE:', rmse)\n",
    "    print('R2 Square', r2_square)\n",
    "    return mae, mse, rmse, r2_square\n",
    "\n",
    "#evaluate(ytest, y_Search)"
   ]
  },
  {
   "cell_type": "code",
   "execution_count": 39,
   "id": "g7NXx1812HMA",
   "metadata": {
    "colab": {
     "base_uri": "https://localhost:8080/"
    },
    "executionInfo": {
     "elapsed": 2,
     "status": "ok",
     "timestamp": 1665337433497,
     "user": {
      "displayName": "Ebi Tunyan",
      "userId": "02090140657846476290"
     },
     "user_tz": -540
    },
    "id": "g7NXx1812HMA",
    "outputId": "757603cd-6df5-4eaf-f163-af600d9dc7bd"
   },
   "outputs": [
    {
     "name": "stdout",
     "output_type": "stream",
     "text": [
      "MAE: 2545.965509614371\n",
      "MSE: 19957942.7411949\n",
      "RMSE: 4467.431335923911\n",
      "R2 Square 0.8501906152591633\n"
     ]
    }
   ],
   "source": [
    "#taking it a step further\n",
    "results_df = pd.DataFrame(data=[[\"Random Forest Regressor\", *evaluate(ytest, y_Search)]], \n",
    "                          columns=['Model', 'MAE', 'MSE', 'RMSE', 'R2 Square'])\n",
    "#save to a CSV file\n",
    "results_df.to_csv(\"results.csv\",index=False)"
   ]
  },
  {
   "cell_type": "code",
   "execution_count": 40,
   "id": "DWVb2lLo2LkO",
   "metadata": {
    "colab": {
     "base_uri": "https://localhost:8080/",
     "height": 17
    },
    "executionInfo": {
     "elapsed": 270,
     "status": "ok",
     "timestamp": 1665337445768,
     "user": {
      "displayName": "Ebi Tunyan",
      "userId": "02090140657846476290"
     },
     "user_tz": -540
    },
    "id": "DWVb2lLo2LkO",
    "outputId": "5cc6ce87-7709-4107-a57d-bb7caeb318c9"
   },
   "outputs": [
    {
     "ename": "ImportError",
     "evalue": "cannot import name 'files' from 'jupyter' (C:\\Users\\USER\\anaconda3\\lib\\site-packages\\jupyter.py)",
     "output_type": "error",
     "traceback": [
      "\u001b[1;31m---------------------------------------------------------------------------\u001b[0m",
      "\u001b[1;31mImportError\u001b[0m                               Traceback (most recent call last)",
      "Input \u001b[1;32mIn [40]\u001b[0m, in \u001b[0;36m<cell line: 2>\u001b[1;34m()\u001b[0m\n\u001b[0;32m      1\u001b[0m \u001b[38;5;66;03m#Download the CSV file.\u001b[39;00m\n\u001b[1;32m----> 2\u001b[0m \u001b[38;5;28;01mfrom\u001b[39;00m \u001b[38;5;21;01mjupyter\u001b[39;00m \u001b[38;5;28;01mimport\u001b[39;00m files\n\u001b[0;32m      3\u001b[0m files\u001b[38;5;241m.\u001b[39mdownload(\u001b[38;5;124m'\u001b[39m\u001b[38;5;124mresults.csv\u001b[39m\u001b[38;5;124m'\u001b[39m)\n",
      "\u001b[1;31mImportError\u001b[0m: cannot import name 'files' from 'jupyter' (C:\\Users\\USER\\anaconda3\\lib\\site-packages\\jupyter.py)"
     ]
    }
   ],
   "source": [
    "#Download the CSV file.\n",
    "from google.colab import files\n",
    "files.download('results.csv')"
   ]
  },
  {
   "cell_type": "code",
   "execution_count": null,
   "id": "76d94f0b",
   "metadata": {},
   "outputs": [],
   "source": []
  }
 ],
 "metadata": {
  "colab": {
   "collapsed_sections": [],
   "provenance": []
  },
  "kernelspec": {
   "display_name": "Python 3 (ipykernel)",
   "language": "python",
   "name": "python3"
  },
  "language_info": {
   "codemirror_mode": {
    "name": "ipython",
    "version": 3
   },
   "file_extension": ".py",
   "mimetype": "text/x-python",
   "name": "python",
   "nbconvert_exporter": "python",
   "pygments_lexer": "ipython3",
   "version": "3.9.12"
  }
 },
 "nbformat": 4,
 "nbformat_minor": 5
}
